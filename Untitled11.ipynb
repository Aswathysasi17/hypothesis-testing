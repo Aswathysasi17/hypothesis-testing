{
 "cells": [
  {
   "cell_type": "markdown",
   "id": "e28762cf",
   "metadata": {},
   "source": [
    "# importing libraries"
   ]
  },
  {
   "cell_type": "code",
   "execution_count": 14,
   "id": "46530859",
   "metadata": {},
   "outputs": [],
   "source": []
  },
  {
   "cell_type": "code",
   "execution_count": 20,
   "id": "aa61b528",
   "metadata": {},
   "outputs": [],
   "source": [
    "import numpy as np\n",
    "import pandas as pd\n",
    "import matplotlib.pyplot as plt\n",
    "import seaborn as sns\n",
    "from scipy.stats import stats\n",
    "from scipy.stats import chi2_contingency"
   ]
  },
  {
   "cell_type": "code",
   "execution_count": 2,
   "id": "44338d65",
   "metadata": {},
   "outputs": [],
   "source": [
    "df=pd.read_csv('sales_add.csv')"
   ]
  },
  {
   "cell_type": "code",
   "execution_count": 3,
   "id": "c2ce47a8",
   "metadata": {},
   "outputs": [
    {
     "data": {
      "text/html": [
       "<div>\n",
       "<style scoped>\n",
       "    .dataframe tbody tr th:only-of-type {\n",
       "        vertical-align: middle;\n",
       "    }\n",
       "\n",
       "    .dataframe tbody tr th {\n",
       "        vertical-align: top;\n",
       "    }\n",
       "\n",
       "    .dataframe thead th {\n",
       "        text-align: right;\n",
       "    }\n",
       "</style>\n",
       "<table border=\"1\" class=\"dataframe\">\n",
       "  <thead>\n",
       "    <tr style=\"text-align: right;\">\n",
       "      <th></th>\n",
       "      <th>Month</th>\n",
       "      <th>Region</th>\n",
       "      <th>Manager</th>\n",
       "      <th>Sales_before_digital_add(in $)</th>\n",
       "      <th>Sales_After_digital_add(in $)</th>\n",
       "    </tr>\n",
       "  </thead>\n",
       "  <tbody>\n",
       "    <tr>\n",
       "      <th>0</th>\n",
       "      <td>Month-1</td>\n",
       "      <td>Region - A</td>\n",
       "      <td>Manager - A</td>\n",
       "      <td>132921</td>\n",
       "      <td>270390</td>\n",
       "    </tr>\n",
       "    <tr>\n",
       "      <th>1</th>\n",
       "      <td>Month-2</td>\n",
       "      <td>Region - A</td>\n",
       "      <td>Manager - C</td>\n",
       "      <td>149559</td>\n",
       "      <td>223334</td>\n",
       "    </tr>\n",
       "    <tr>\n",
       "      <th>2</th>\n",
       "      <td>Month-3</td>\n",
       "      <td>Region - B</td>\n",
       "      <td>Manager - A</td>\n",
       "      <td>146278</td>\n",
       "      <td>244243</td>\n",
       "    </tr>\n",
       "    <tr>\n",
       "      <th>3</th>\n",
       "      <td>Month-4</td>\n",
       "      <td>Region - B</td>\n",
       "      <td>Manager - B</td>\n",
       "      <td>152167</td>\n",
       "      <td>231808</td>\n",
       "    </tr>\n",
       "    <tr>\n",
       "      <th>4</th>\n",
       "      <td>Month-5</td>\n",
       "      <td>Region - C</td>\n",
       "      <td>Manager - B</td>\n",
       "      <td>159525</td>\n",
       "      <td>258402</td>\n",
       "    </tr>\n",
       "  </tbody>\n",
       "</table>\n",
       "</div>"
      ],
      "text/plain": [
       "     Month      Region      Manager  Sales_before_digital_add(in $)  \\\n",
       "0  Month-1  Region - A  Manager - A                          132921   \n",
       "1  Month-2  Region - A  Manager - C                          149559   \n",
       "2  Month-3  Region - B  Manager - A                          146278   \n",
       "3  Month-4  Region - B  Manager - B                          152167   \n",
       "4  Month-5  Region - C  Manager - B                          159525   \n",
       "\n",
       "   Sales_After_digital_add(in $)  \n",
       "0                         270390  \n",
       "1                         223334  \n",
       "2                         244243  \n",
       "3                         231808  \n",
       "4                         258402  "
      ]
     },
     "execution_count": 3,
     "metadata": {},
     "output_type": "execute_result"
    }
   ],
   "source": [
    "df.head()"
   ]
  },
  {
   "cell_type": "code",
   "execution_count": 22,
   "id": "bfbc4a48",
   "metadata": {},
   "outputs": [
    {
     "name": "stdout",
     "output_type": "stream",
     "text": [
      "<class 'pandas.core.frame.DataFrame'>\n",
      "RangeIndex: 22 entries, 0 to 21\n",
      "Data columns (total 5 columns):\n",
      " #   Column                          Non-Null Count  Dtype \n",
      "---  ------                          --------------  ----- \n",
      " 0   Month                           22 non-null     object\n",
      " 1   Region                          22 non-null     object\n",
      " 2   Manager                         22 non-null     object\n",
      " 3   Sales_before_digital_add(in $)  22 non-null     int64 \n",
      " 4   Sales_After_digital_add(in $)   22 non-null     int64 \n",
      "dtypes: int64(2), object(3)\n",
      "memory usage: 680.0+ bytes\n"
     ]
    }
   ],
   "source": [
    "df.info()"
   ]
  },
  {
   "cell_type": "markdown",
   "id": "d8d14b0f",
   "metadata": {},
   "source": [
    "# 1.Descriptive analysis on dataset"
   ]
  },
  {
   "cell_type": "code",
   "execution_count": 23,
   "id": "a1fd0003",
   "metadata": {},
   "outputs": [
    {
     "data": {
      "text/html": [
       "<div>\n",
       "<style scoped>\n",
       "    .dataframe tbody tr th:only-of-type {\n",
       "        vertical-align: middle;\n",
       "    }\n",
       "\n",
       "    .dataframe tbody tr th {\n",
       "        vertical-align: top;\n",
       "    }\n",
       "\n",
       "    .dataframe thead th {\n",
       "        text-align: right;\n",
       "    }\n",
       "</style>\n",
       "<table border=\"1\" class=\"dataframe\">\n",
       "  <thead>\n",
       "    <tr style=\"text-align: right;\">\n",
       "      <th></th>\n",
       "      <th>Sales_before_digital_add(in $)</th>\n",
       "      <th>Sales_After_digital_add(in $)</th>\n",
       "    </tr>\n",
       "  </thead>\n",
       "  <tbody>\n",
       "    <tr>\n",
       "      <th>count</th>\n",
       "      <td>22.000000</td>\n",
       "      <td>22.000000</td>\n",
       "    </tr>\n",
       "    <tr>\n",
       "      <th>mean</th>\n",
       "      <td>149239.954545</td>\n",
       "      <td>231123.727273</td>\n",
       "    </tr>\n",
       "    <tr>\n",
       "      <th>std</th>\n",
       "      <td>14844.042921</td>\n",
       "      <td>25556.777061</td>\n",
       "    </tr>\n",
       "    <tr>\n",
       "      <th>min</th>\n",
       "      <td>130263.000000</td>\n",
       "      <td>187305.000000</td>\n",
       "    </tr>\n",
       "    <tr>\n",
       "      <th>25%</th>\n",
       "      <td>138087.750000</td>\n",
       "      <td>214960.750000</td>\n",
       "    </tr>\n",
       "    <tr>\n",
       "      <th>50%</th>\n",
       "      <td>147444.000000</td>\n",
       "      <td>229986.500000</td>\n",
       "    </tr>\n",
       "    <tr>\n",
       "      <th>75%</th>\n",
       "      <td>157627.500000</td>\n",
       "      <td>250909.000000</td>\n",
       "    </tr>\n",
       "    <tr>\n",
       "      <th>max</th>\n",
       "      <td>178939.000000</td>\n",
       "      <td>276279.000000</td>\n",
       "    </tr>\n",
       "  </tbody>\n",
       "</table>\n",
       "</div>"
      ],
      "text/plain": [
       "       Sales_before_digital_add(in $)  Sales_After_digital_add(in $)\n",
       "count                       22.000000                      22.000000\n",
       "mean                    149239.954545                  231123.727273\n",
       "std                      14844.042921                   25556.777061\n",
       "min                     130263.000000                  187305.000000\n",
       "25%                     138087.750000                  214960.750000\n",
       "50%                     147444.000000                  229986.500000\n",
       "75%                     157627.500000                  250909.000000\n",
       "max                     178939.000000                  276279.000000"
      ]
     },
     "execution_count": 23,
     "metadata": {},
     "output_type": "execute_result"
    }
   ],
   "source": [
    "df.describe()"
   ]
  },
  {
   "cell_type": "markdown",
   "id": "6899d2f2",
   "metadata": {},
   "source": [
    "# insights\n",
    " This dataset contains 22 rows and 4 coloumns\n",
    " \n",
    " This dataset does not contains any nul values\n",
    " \n",
    " The average sales before digital add is 149239.95 and the avaerage sales after digital add is 231123.72"
   ]
  },
  {
   "cell_type": "markdown",
   "id": "ff4db269",
   "metadata": {},
   "source": [
    "# company wishes to clarify wheather there is any increase in after digital add"
   ]
  },
  {
   "cell_type": "markdown",
   "id": "2371f58d",
   "metadata": {},
   "source": [
    "## one-tailed paired T-test"
   ]
  },
  {
   "cell_type": "markdown",
   "id": "8a9c501a",
   "metadata": {},
   "source": [
    "Hypothesis\n",
    "\n",
    "Ho:sales before and after stepping in to digital marketing are same\n",
    "\n",
    "Ha:sales after stepping in to digital marketing are more\n",
    "\n",
    "alpha = 0.05"
   ]
  },
  {
   "cell_type": "code",
   "execution_count": 24,
   "id": "73d0fbf3",
   "metadata": {},
   "outputs": [],
   "source": [
    "sales_BDM=df['Sales_before_digital_add(in $)']\n",
    "sales_ADM=df['Sales_After_digital_add(in $)']"
   ]
  },
  {
   "cell_type": "code",
   "execution_count": 25,
   "id": "1fc95f68",
   "metadata": {},
   "outputs": [
    {
     "name": "stdout",
     "output_type": "stream",
     "text": [
      "The t value of means is:  12.0907\n",
      "The p value based on the t score is:  0.0\n"
     ]
    }
   ],
   "source": [
    "tvalue, pvalue=stats.ttest_rel(sales_ADM,sales_BDM,alternative='greater')\n",
    "print(\"The t value of means is: \", round(tvalue, 4))\n",
    "print(\"The p value based on the t score is: \", round(pvalue,4))"
   ]
  },
  {
   "cell_type": "code",
   "execution_count": 26,
   "id": "5e5fe000",
   "metadata": {},
   "outputs": [
    {
     "data": {
      "text/plain": [
       "Ttest_relResult(statistic=12.09070525287017, pvalue=3.168333502287889e-11)"
      ]
     },
     "execution_count": 26,
     "metadata": {},
     "output_type": "execute_result"
    }
   ],
   "source": [
    "stats.ttest_rel(sales_ADM,sales_BDM,alternative='greater')"
   ]
  },
  {
   "cell_type": "markdown",
   "id": "6a5af8c4",
   "metadata": {},
   "source": [
    "### From above T test, 0 is the p-value, 12.0907 is the statistical value.\n"
   ]
  },
  {
   "cell_type": "markdown",
   "id": "3ea6a62c",
   "metadata": {},
   "source": [
    "### As the p-value=0.0< alpha=0.05 and hence we reject the null Hypothesis"
   ]
  },
  {
   "cell_type": "markdown",
   "id": "dabbe771",
   "metadata": {},
   "source": [
    "### ie. The sales after stepping into digital marketing is more"
   ]
  },
  {
   "cell_type": "markdown",
   "id": "1ec988d9",
   "metadata": {},
   "source": [
    "# ●The company needs to check whether there is any dependency between the features “Region” and “Manager”."
   ]
  },
  {
   "cell_type": "markdown",
   "id": "c1d34007",
   "metadata": {},
   "source": [
    "## Chi Square test for Dependency"
   ]
  },
  {
   "cell_type": "markdown",
   "id": "44893fca",
   "metadata": {},
   "source": [
    "### Hypothesis\n",
    "\n",
    "Ho :The 2 features “Region” and “Manager” which are to be compared are independent.\n",
    "\n",
    "Ha :The 2 features are dependent.\n",
    "\n",
    "alpha : 0.05"
   ]
  },
  {
   "cell_type": "code",
   "execution_count": 28,
   "id": "670bff7b",
   "metadata": {},
   "outputs": [
    {
     "data": {
      "text/html": [
       "<div>\n",
       "<style scoped>\n",
       "    .dataframe tbody tr th:only-of-type {\n",
       "        vertical-align: middle;\n",
       "    }\n",
       "\n",
       "    .dataframe tbody tr th {\n",
       "        vertical-align: top;\n",
       "    }\n",
       "\n",
       "    .dataframe thead th {\n",
       "        text-align: right;\n",
       "    }\n",
       "</style>\n",
       "<table border=\"1\" class=\"dataframe\">\n",
       "  <thead>\n",
       "    <tr style=\"text-align: right;\">\n",
       "      <th>Manager</th>\n",
       "      <th>Manager - A</th>\n",
       "      <th>Manager - B</th>\n",
       "      <th>Manager - C</th>\n",
       "      <th>All</th>\n",
       "    </tr>\n",
       "    <tr>\n",
       "      <th>Region</th>\n",
       "      <th></th>\n",
       "      <th></th>\n",
       "      <th></th>\n",
       "      <th></th>\n",
       "    </tr>\n",
       "  </thead>\n",
       "  <tbody>\n",
       "    <tr>\n",
       "      <th>Region - A</th>\n",
       "      <td>594514</td>\n",
       "      <td>466851</td>\n",
       "      <td>420684</td>\n",
       "      <td>1482049</td>\n",
       "    </tr>\n",
       "    <tr>\n",
       "      <th>Region - B</th>\n",
       "      <td>570900</td>\n",
       "      <td>152167</td>\n",
       "      <td>330598</td>\n",
       "      <td>1053665</td>\n",
       "    </tr>\n",
       "    <tr>\n",
       "      <th>Region - C</th>\n",
       "      <td>147463</td>\n",
       "      <td>469477</td>\n",
       "      <td>130625</td>\n",
       "      <td>747565</td>\n",
       "    </tr>\n",
       "    <tr>\n",
       "      <th>All</th>\n",
       "      <td>1312877</td>\n",
       "      <td>1088495</td>\n",
       "      <td>881907</td>\n",
       "      <td>3283279</td>\n",
       "    </tr>\n",
       "  </tbody>\n",
       "</table>\n",
       "</div>"
      ],
      "text/plain": [
       "Manager     Manager - A  Manager - B  Manager - C      All\n",
       "Region                                                    \n",
       "Region - A       594514       466851       420684  1482049\n",
       "Region - B       570900       152167       330598  1053665\n",
       "Region - C       147463       469477       130625   747565\n",
       "All             1312877      1088495       881907  3283279"
      ]
     },
     "execution_count": 28,
     "metadata": {},
     "output_type": "execute_result"
    }
   ],
   "source": [
    "df3=pd.crosstab(df.Region, df.Manager, margins=True,values=df['Sales_before_digital_add(in $)'],aggfunc=np.sum)\n",
    "df3\n",
    "\n"
   ]
  },
  {
   "cell_type": "code",
   "execution_count": 29,
   "id": "e9578b85",
   "metadata": {},
   "outputs": [],
   "source": [
    "valueBDM = np.array([df3.iloc[0][0:3].values,\n",
    "                  df3.iloc[1][0:3].values,\n",
    "                  df3.iloc[2][0:3].values])\n",
    "stat, p, dof, expected=chi2_contingency(valueBDM)"
   ]
  },
  {
   "cell_type": "code",
   "execution_count": 30,
   "id": "d59e14d8",
   "metadata": {},
   "outputs": [
    {
     "name": "stdout",
     "output_type": "stream",
     "text": [
      "(474356.9740349385, 0.0, 4)\n",
      "p value is 0.0\n",
      "Dependent (reject H0)\n"
     ]
    }
   ],
   "source": [
    "print(chi2_contingency(valueBDM)[0:3])\n",
    "alpha = 0.05\n",
    "print(\"p value is \" + str(p))\n",
    "if p <= alpha:\n",
    "    print('Dependent (reject H0)')\n",
    "else:\n",
    "    print('Independent (H0 holds true)')"
   ]
  },
  {
   "cell_type": "code",
   "execution_count": 31,
   "id": "8605099f",
   "metadata": {},
   "outputs": [
    {
     "data": {
      "text/html": [
       "<div>\n",
       "<style scoped>\n",
       "    .dataframe tbody tr th:only-of-type {\n",
       "        vertical-align: middle;\n",
       "    }\n",
       "\n",
       "    .dataframe tbody tr th {\n",
       "        vertical-align: top;\n",
       "    }\n",
       "\n",
       "    .dataframe thead th {\n",
       "        text-align: right;\n",
       "    }\n",
       "</style>\n",
       "<table border=\"1\" class=\"dataframe\">\n",
       "  <thead>\n",
       "    <tr style=\"text-align: right;\">\n",
       "      <th>Manager</th>\n",
       "      <th>Manager - A</th>\n",
       "      <th>Manager - B</th>\n",
       "      <th>Manager - C</th>\n",
       "      <th>All</th>\n",
       "    </tr>\n",
       "    <tr>\n",
       "      <th>Region</th>\n",
       "      <th></th>\n",
       "      <th></th>\n",
       "      <th></th>\n",
       "      <th></th>\n",
       "    </tr>\n",
       "  </thead>\n",
       "  <tbody>\n",
       "    <tr>\n",
       "      <th>Region - A</th>\n",
       "      <td>1030437</td>\n",
       "      <td>656832</td>\n",
       "      <td>701262</td>\n",
       "      <td>2388531</td>\n",
       "    </tr>\n",
       "    <tr>\n",
       "      <th>Region - B</th>\n",
       "      <td>939851</td>\n",
       "      <td>231808</td>\n",
       "      <td>429436</td>\n",
       "      <td>1601095</td>\n",
       "    </tr>\n",
       "    <tr>\n",
       "      <th>Region - C</th>\n",
       "      <td>229336</td>\n",
       "      <td>643654</td>\n",
       "      <td>222106</td>\n",
       "      <td>1095096</td>\n",
       "    </tr>\n",
       "    <tr>\n",
       "      <th>All</th>\n",
       "      <td>2199624</td>\n",
       "      <td>1532294</td>\n",
       "      <td>1352804</td>\n",
       "      <td>5084722</td>\n",
       "    </tr>\n",
       "  </tbody>\n",
       "</table>\n",
       "</div>"
      ],
      "text/plain": [
       "Manager     Manager - A  Manager - B  Manager - C      All\n",
       "Region                                                    \n",
       "Region - A      1030437       656832       701262  2388531\n",
       "Region - B       939851       231808       429436  1601095\n",
       "Region - C       229336       643654       222106  1095096\n",
       "All             2199624      1532294      1352804  5084722"
      ]
     },
     "execution_count": 31,
     "metadata": {},
     "output_type": "execute_result"
    }
   ],
   "source": [
    "df4=pd.crosstab(df.Region, df.Manager, margins=True,values=df['Sales_After_digital_add(in $)'],aggfunc=np.sum)\n",
    "df4"
   ]
  },
  {
   "cell_type": "code",
   "execution_count": 32,
   "id": "9c0d9b8c",
   "metadata": {},
   "outputs": [],
   "source": [
    "valueADM = np.array([df4.iloc[0][0:3].values,\n",
    "                  df4.iloc[1][0:3].values,\n",
    "                  df4.iloc[2][0:3].values])\n",
    "stat, p, dof, expected=chi2_contingency(valueADM)"
   ]
  },
  {
   "cell_type": "code",
   "execution_count": 33,
   "id": "f8a9eaca",
   "metadata": {},
   "outputs": [
    {
     "name": "stdout",
     "output_type": "stream",
     "text": [
      "(671476.3637089065, 0.0, 4)\n",
      "p value is 0.0\n",
      "Dependent (reject H0)\n"
     ]
    }
   ],
   "source": [
    "print(chi2_contingency(valueADM)[0:3])\n",
    "alpha = 0.05\n",
    "print(\"p value is \" + str(p))\n",
    "if p <= alpha:\n",
    "    print('Dependent (reject H0)')\n",
    "else:\n",
    "    print('Independent (H0 holds true)')"
   ]
  },
  {
   "cell_type": "markdown",
   "id": "1c7eeb95",
   "metadata": {},
   "source": [
    "# From above two cases of considering both with and wihout Digital marketing, 0 is the p-value for both cases ,474356.97 and 671476.36 is the statistical value respectively and 4 is the degree of freedom."
   ]
  },
  {
   "cell_type": "markdown",
   "id": "32356335",
   "metadata": {},
   "source": [
    "## As the p-value=0.0< 𝛼 =0.05 and hence we reject the NULL Hypothesis."
   ]
  },
  {
   "cell_type": "markdown",
   "id": "832811e3",
   "metadata": {},
   "source": [
    "## Ie. The 2 features “Region” and “Manager” which are to be compared are dependent.\n",
    " "
   ]
  },
  {
   "cell_type": "code",
   "execution_count": null,
   "id": "f6792377",
   "metadata": {},
   "outputs": [],
   "source": []
  }
 ],
 "metadata": {
  "kernelspec": {
   "display_name": "Python 3",
   "language": "python",
   "name": "python3"
  },
  "language_info": {
   "codemirror_mode": {
    "name": "ipython",
    "version": 3
   },
   "file_extension": ".py",
   "mimetype": "text/x-python",
   "name": "python",
   "nbconvert_exporter": "python",
   "pygments_lexer": "ipython3",
   "version": "3.8.8"
  }
 },
 "nbformat": 4,
 "nbformat_minor": 5
}
